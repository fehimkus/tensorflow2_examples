{
  "nbformat": 4,
  "nbformat_minor": 0,
  "metadata": {
    "colab": {
      "name": "keras_deeplizard.ipynb",
      "provenance": [],
      "authorship_tag": "ABX9TyONPq3JDbBVoSt2davL+pEM",
      "include_colab_link": true
    },
    "kernelspec": {
      "name": "python3",
      "display_name": "Python 3"
    }
  },
  "cells": [
    {
      "cell_type": "markdown",
      "metadata": {
        "id": "view-in-github",
        "colab_type": "text"
      },
      "source": [
        "<a href=\"https://colab.research.google.com/github/fehimkus/tensorflow2_examples/blob/master/keras_deeplizard.ipynb\" target=\"_parent\"><img src=\"https://colab.research.google.com/assets/colab-badge.svg\" alt=\"Open In Colab\"/></a>"
      ]
    },
    {
      "cell_type": "markdown",
      "metadata": {
        "id": "CRr15jdEgWeA",
        "colab_type": "text"
      },
      "source": [
        "DATA PREPERATION"
      ]
    },
    {
      "cell_type": "code",
      "metadata": {
        "id": "L0ffL8aTlgsf",
        "colab_type": "code",
        "colab": {}
      },
      "source": [
        "import numpy as np\n",
        "from random import randint\n",
        "from sklearn.utils import shuffle\n",
        "from sklearn.preprocessing import MinMaxScaler"
      ],
      "execution_count": 162,
      "outputs": []
    },
    {
      "cell_type": "code",
      "metadata": {
        "id": "JqqTtHrPYWP_",
        "colab_type": "code",
        "colab": {}
      },
      "source": [
        "train_labels = []\n",
        "train_samples = []"
      ],
      "execution_count": 163,
      "outputs": []
    },
    {
      "cell_type": "code",
      "metadata": {
        "id": "sPMBEc7ZYj2g",
        "colab_type": "code",
        "colab": {}
      },
      "source": [
        "for i in range(50):\n",
        "  random_younger = randint(13, 64)\n",
        "  train_samples.append(random_younger)\n",
        "  train_labels.append(1)\n",
        "\n",
        "  random_older = randint(65, 100)\n",
        "  train_samples.append(random_older)\n",
        "  train_labels.append(0)\n",
        "\n",
        "for i in range(1000):\n",
        "  random_younger = randint(13, 64)\n",
        "  train_samples.append(random_younger)\n",
        "  train_labels.append(0)\n",
        "\n",
        "  random_older = randint(65, 100)\n",
        "  train_samples.append(random_older)\n",
        "  train_labels.append(1)\n"
      ],
      "execution_count": 164,
      "outputs": []
    },
    {
      "cell_type": "code",
      "metadata": {
        "id": "SuAuNk3wYjm5",
        "colab_type": "code",
        "colab": {}
      },
      "source": [
        "train_labels = np.array(train_labels)\n",
        "train_samples = np.array(train_samples)\n",
        "train_labels, train_samples = shuffle(train_labels, train_samples)"
      ],
      "execution_count": 165,
      "outputs": []
    },
    {
      "cell_type": "code",
      "metadata": {
        "id": "l0M0qukxiXKm",
        "colab_type": "code",
        "colab": {}
      },
      "source": [
        "scaler = MinMaxScaler(feature_range=(0, 1))\n",
        "scaled_train_samples = scaler.fit_transform(train_samples.reshape(-1, 1))"
      ],
      "execution_count": 166,
      "outputs": []
    },
    {
      "cell_type": "markdown",
      "metadata": {
        "id": "FXHV07IQgOWd",
        "colab_type": "text"
      },
      "source": [
        "MODEL BUILDING"
      ]
    },
    {
      "cell_type": "code",
      "metadata": {
        "id": "0txDEC51Ss-3",
        "colab_type": "code",
        "colab": {}
      },
      "source": [
        "import tensorflow as tf\n",
        "from tensorflow import keras\n",
        "from tensorflow.keras.models import Sequential\n",
        "from tensorflow.keras.layers import Activation, Dense\n",
        "from tensorflow.keras.optimizers import Adam\n",
        "from tensorflow.keras.metrics import categorical_crossentropy"
      ],
      "execution_count": 167,
      "outputs": []
    },
    {
      "cell_type": "code",
      "metadata": {
        "id": "5ACudF5gYYbG",
        "colab_type": "code",
        "colab": {}
      },
      "source": [
        "model = Sequential([\n",
        "                    Dense(units=16, input_shape=(1,), activation='relu'),\n",
        "                    Dense(units=32, activation='relu'),\n",
        "                    Dense(units=2, activation='softmax')\n",
        "])"
      ],
      "execution_count": 168,
      "outputs": []
    },
    {
      "cell_type": "code",
      "metadata": {
        "id": "sgPNfy6ZbT4e",
        "colab_type": "code",
        "colab": {}
      },
      "source": [
        "#model.summary()"
      ],
      "execution_count": 169,
      "outputs": []
    },
    {
      "cell_type": "markdown",
      "metadata": {
        "id": "wFdDGYD2gT-J",
        "colab_type": "text"
      },
      "source": [
        "TRAINING"
      ]
    },
    {
      "cell_type": "code",
      "metadata": {
        "id": "BIhbNprrbV_W",
        "colab_type": "code",
        "colab": {}
      },
      "source": [
        "model.compile(optimizer=Adam(learning_rate=0.001), loss='sparse_categorical_crossentropy', metrics=['accuracy'])"
      ],
      "execution_count": 170,
      "outputs": []
    },
    {
      "cell_type": "code",
      "metadata": {
        "id": "IHsKUHpEk9iV",
        "colab_type": "code",
        "colab": {
          "base_uri": "https://localhost:8080/",
          "height": 1000
        },
        "outputId": "bcfd54f9-ebda-401b-ee7e-e8edf26c1c75"
      },
      "source": [
        "model.fit(x=scaled_train_samples, y=train_labels, validation_split=0.1, batch_size=10, epochs=30, shuffle=True, verbose=2)"
      ],
      "execution_count": 171,
      "outputs": [
        {
          "output_type": "stream",
          "text": [
            "Epoch 1/30\n",
            "189/189 - 0s - loss: 0.6008 - accuracy: 0.7392 - val_loss: 0.4726 - val_accuracy: 0.8714\n",
            "Epoch 2/30\n",
            "189/189 - 0s - loss: 0.3626 - accuracy: 0.9011 - val_loss: 0.2949 - val_accuracy: 0.9190\n",
            "Epoch 3/30\n",
            "189/189 - 0s - loss: 0.2745 - accuracy: 0.9296 - val_loss: 0.2607 - val_accuracy: 0.9429\n",
            "Epoch 4/30\n",
            "189/189 - 0s - loss: 0.2560 - accuracy: 0.9349 - val_loss: 0.2484 - val_accuracy: 0.9524\n",
            "Epoch 5/30\n",
            "189/189 - 0s - loss: 0.2473 - accuracy: 0.9397 - val_loss: 0.2406 - val_accuracy: 0.9429\n",
            "Epoch 6/30\n",
            "189/189 - 0s - loss: 0.2414 - accuracy: 0.9429 - val_loss: 0.2357 - val_accuracy: 0.9429\n",
            "Epoch 7/30\n",
            "189/189 - 0s - loss: 0.2368 - accuracy: 0.9455 - val_loss: 0.2323 - val_accuracy: 0.9429\n",
            "Epoch 8/30\n",
            "189/189 - 0s - loss: 0.2335 - accuracy: 0.9455 - val_loss: 0.2269 - val_accuracy: 0.9524\n",
            "Epoch 9/30\n",
            "189/189 - 0s - loss: 0.2315 - accuracy: 0.9439 - val_loss: 0.2277 - val_accuracy: 0.9429\n",
            "Epoch 10/30\n",
            "189/189 - 0s - loss: 0.2281 - accuracy: 0.9413 - val_loss: 0.2228 - val_accuracy: 0.9524\n",
            "Epoch 11/30\n",
            "189/189 - 0s - loss: 0.2283 - accuracy: 0.9450 - val_loss: 0.2214 - val_accuracy: 0.9524\n",
            "Epoch 12/30\n",
            "189/189 - 0s - loss: 0.2269 - accuracy: 0.9429 - val_loss: 0.2213 - val_accuracy: 0.9524\n",
            "Epoch 13/30\n",
            "189/189 - 0s - loss: 0.2248 - accuracy: 0.9450 - val_loss: 0.2202 - val_accuracy: 0.9429\n",
            "Epoch 14/30\n",
            "189/189 - 0s - loss: 0.2251 - accuracy: 0.9450 - val_loss: 0.2177 - val_accuracy: 0.9524\n",
            "Epoch 15/30\n",
            "189/189 - 0s - loss: 0.2233 - accuracy: 0.9439 - val_loss: 0.2156 - val_accuracy: 0.9524\n",
            "Epoch 16/30\n",
            "189/189 - 0s - loss: 0.2231 - accuracy: 0.9429 - val_loss: 0.2157 - val_accuracy: 0.9524\n",
            "Epoch 17/30\n",
            "189/189 - 0s - loss: 0.2216 - accuracy: 0.9460 - val_loss: 0.2140 - val_accuracy: 0.9524\n",
            "Epoch 18/30\n",
            "189/189 - 0s - loss: 0.2209 - accuracy: 0.9466 - val_loss: 0.2131 - val_accuracy: 0.9524\n",
            "Epoch 19/30\n",
            "189/189 - 0s - loss: 0.2206 - accuracy: 0.9444 - val_loss: 0.2125 - val_accuracy: 0.9524\n",
            "Epoch 20/30\n",
            "189/189 - 0s - loss: 0.2197 - accuracy: 0.9423 - val_loss: 0.2136 - val_accuracy: 0.9429\n",
            "Epoch 21/30\n",
            "189/189 - 0s - loss: 0.2188 - accuracy: 0.9444 - val_loss: 0.2144 - val_accuracy: 0.9429\n",
            "Epoch 22/30\n",
            "189/189 - 0s - loss: 0.2177 - accuracy: 0.9455 - val_loss: 0.2088 - val_accuracy: 0.9524\n",
            "Epoch 23/30\n",
            "189/189 - 0s - loss: 0.2191 - accuracy: 0.9444 - val_loss: 0.2126 - val_accuracy: 0.9429\n",
            "Epoch 24/30\n",
            "189/189 - 0s - loss: 0.2160 - accuracy: 0.9444 - val_loss: 0.2063 - val_accuracy: 0.9524\n",
            "Epoch 25/30\n",
            "189/189 - 0s - loss: 0.2165 - accuracy: 0.9444 - val_loss: 0.2053 - val_accuracy: 0.9524\n",
            "Epoch 26/30\n",
            "189/189 - 0s - loss: 0.2165 - accuracy: 0.9439 - val_loss: 0.2141 - val_accuracy: 0.9429\n",
            "Epoch 27/30\n",
            "189/189 - 0s - loss: 0.2171 - accuracy: 0.9450 - val_loss: 0.2036 - val_accuracy: 0.9524\n",
            "Epoch 28/30\n",
            "189/189 - 0s - loss: 0.2150 - accuracy: 0.9471 - val_loss: 0.2028 - val_accuracy: 0.9524\n",
            "Epoch 29/30\n",
            "189/189 - 0s - loss: 0.2143 - accuracy: 0.9503 - val_loss: 0.2016 - val_accuracy: 0.9524\n",
            "Epoch 30/30\n",
            "189/189 - 0s - loss: 0.2173 - accuracy: 0.9434 - val_loss: 0.2044 - val_accuracy: 0.9524\n"
          ],
          "name": "stdout"
        },
        {
          "output_type": "execute_result",
          "data": {
            "text/plain": [
              "<tensorflow.python.keras.callbacks.History at 0x7f61181bd1d0>"
            ]
          },
          "metadata": {
            "tags": []
          },
          "execution_count": 171
        }
      ]
    },
    {
      "cell_type": "markdown",
      "metadata": {
        "id": "OZLvPMdZeYi1",
        "colab_type": "text"
      },
      "source": [
        "PREDICTION"
      ]
    },
    {
      "cell_type": "code",
      "metadata": {
        "id": "LqoXDdnMePmI",
        "colab_type": "code",
        "colab": {}
      },
      "source": [
        "predictions = model.predict(x = scaled_train_samples, batch_size=10, verbose=0)"
      ],
      "execution_count": 172,
      "outputs": []
    },
    {
      "cell_type": "code",
      "metadata": {
        "id": "9E8NgPtdfPV5",
        "colab_type": "code",
        "colab": {}
      },
      "source": [
        "rounded_predictions = np.argmax(predictions, axis=-1)\n",
        "#for i in rounded_predictions:\n",
        "  #print(i)"
      ],
      "execution_count": 173,
      "outputs": []
    },
    {
      "cell_type": "markdown",
      "metadata": {
        "id": "tGn1Kw_yqgbP",
        "colab_type": "text"
      },
      "source": [
        "CONFUSION MATRIX AND VISUALIZATION"
      ]
    },
    {
      "cell_type": "code",
      "metadata": {
        "id": "JI6vzj2lhOqJ",
        "colab_type": "code",
        "colab": {}
      },
      "source": [
        "%matplotlib inline\n",
        "from sklearn.metrics import confusion_matrix\n",
        "import itertools\n",
        "import matplotlib.pyplot as plt"
      ],
      "execution_count": 174,
      "outputs": []
    },
    {
      "cell_type": "code",
      "metadata": {
        "id": "-fhn7pFNhelN",
        "colab_type": "code",
        "colab": {}
      },
      "source": [
        "cm = confusion_matrix(y_true=train_labels, y_pred=rounded_predictions)"
      ],
      "execution_count": 175,
      "outputs": []
    },
    {
      "cell_type": "code",
      "metadata": {
        "id": "FSZf_mAkhrcU",
        "colab_type": "code",
        "colab": {}
      },
      "source": [
        "def plot_confusion_matrix(cm, classes,\n",
        "                          normalize=False,\n",
        "                          title='Confusion matrix',\n",
        "                          cmap= plt.cm.Blues):\n",
        "\n",
        "  plt.imshow(cm, interpolation='nearest', cmap=cmap)\n",
        "  plt.title(title)\n",
        "  plt.colorbar()\n",
        "  tick_marks =np.arange(len(classes))\n",
        "  plt.xticks(tick_marks, classes, rotation=45)\n",
        "  plt.yticks(tick_marks, classes)\n",
        "\n",
        "  if normalize:\n",
        "    cm=cm.astype('float') /cm.sum(axis=1)[:, np.newaxis]\n",
        "    print(\"Normalized confusion matrix\")\n",
        "  else:\n",
        "    print(\"Confusion matrix, without normalization\")\n",
        "\n",
        "  print(cm)\n",
        "  thresh = cm.max() /2.\n",
        "  for i, j in itertools.product(range(cm.shape[0]), range(cm.shape[1])):\n",
        "    plt.text(j, i, cm[i, j],\n",
        "             horizontalalignment= 'center',\n",
        "             color= 'white' if cm[i, j]> thresh else \"black\")\n",
        "\n",
        "  plt.tight_layout()\n",
        "  plt.ylabel('True label')\n",
        "  plt.xlabel('Predicted label')"
      ],
      "execution_count": 176,
      "outputs": []
    },
    {
      "cell_type": "code",
      "metadata": {
        "id": "cysAH6vykEGL",
        "colab_type": "code",
        "colab": {
          "base_uri": "https://localhost:8080/",
          "height": 363
        },
        "outputId": "6b03b6ba-7490-43f0-9dd9-86c77bde1758"
      },
      "source": [
        "cm_plot_labels = ['no_side_effect', 'had_side_effects']\n",
        "plot_confusion_matrix(cm=cm, classes=cm_plot_labels, title='Confusion Matrix')"
      ],
      "execution_count": 177,
      "outputs": [
        {
          "output_type": "stream",
          "text": [
            "Confusion matrix, without normalization\n",
            "[[1000   50]\n",
            " [  50 1000]]\n"
          ],
          "name": "stdout"
        },
        {
          "output_type": "display_data",
          "data": {
            "image/png": "[encoded data removed]",
            "text/plain": [
              "<Figure size 432x288 with 2 Axes>"
            ]
          },
          "metadata": {
            "tags": [],
            "needs_background": "light"
          }
        }
      ]
    },
    {
      "cell_type": "markdown",
      "metadata": {
        "id": "sgKNUuk4sQml",
        "colab_type": "text"
      },
      "source": [
        "SAVE ALL MODEL"
      ]
    },
    {
      "cell_type": "code",
      "metadata": {
        "id": "_xcTO-SPq6Yj",
        "colab_type": "code",
        "colab": {}
      },
      "source": [
        "#from tensorflow.keras.models import load_model\n",
        "#new_model = load_model('<<local path>>.h5')"
      ],
      "execution_count": 178,
      "outputs": []
    },
    {
      "cell_type": "code",
      "metadata": {
        "id": "Ww4xBX_yrNaa",
        "colab_type": "code",
        "colab": {}
      },
      "source": [
        "#new_model.summary()"
      ],
      "execution_count": 179,
      "outputs": []
    },
    {
      "cell_type": "markdown",
      "metadata": {
        "id": "k89v7HQAsUj3",
        "colab_type": "text"
      },
      "source": [
        "SAVE ONLY WEIGHTS"
      ]
    },
    {
      "cell_type": "code",
      "metadata": {
        "id": "7_dsBGTnsXif",
        "colab_type": "code",
        "colab": {}
      },
      "source": [
        "#Write a location on your local disk and define a file name\n",
        "#import os.path\n",
        "#if os.path.isfile('<<file_path/file_name.h5>>') is False:\n",
        "  #model.save_weights('<<file_path/file_name.h5>>')"
      ],
      "execution_count": 180,
      "outputs": []
    },
    {
      "cell_type": "code",
      "metadata": {
        "id": "zsXhJSDLtlxC",
        "colab_type": "code",
        "colab": {}
      },
      "source": [
        "#defining another model to save weights and remove the # character\n",
        "#model2 = Sequential([\n",
        "                    #Dense(units=16, input_shape=(1,), activation='relu'),\n",
        "                    #Dense(units=32, activation='relu'),\n",
        "                    #Dense(units=2, activation='softmax')\n",
        "#])"
      ],
      "execution_count": 181,
      "outputs": []
    },
    {
      "cell_type": "code",
      "metadata": {
        "id": "IH_RPOp7t2Ef",
        "colab_type": "code",
        "colab": {}
      },
      "source": [
        "#model2.load_weights('<<file_path/file_name.h5>>')"
      ],
      "execution_count": 182,
      "outputs": []
    },
    {
      "cell_type": "code",
      "metadata": {
        "id": "hMVbDLBQuFYj",
        "colab_type": "code",
        "colab": {}
      },
      "source": [
        "#model2.get_weights()"
      ],
      "execution_count": 183,
      "outputs": []
    }
  ]
}