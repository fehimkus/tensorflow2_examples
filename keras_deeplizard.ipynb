{
  "nbformat": 4,
  "nbformat_minor": 0,
  "metadata": {
    "colab": {
      "name": "keras_deeplizard.ipynb",
      "provenance": [],
      "authorship_tag": "ABX9TyMRuP3qVLDOn1YJEaHBo70Y",
      "include_colab_link": true
    },
    "kernelspec": {
      "name": "python3",
      "display_name": "Python 3"
    }
  },
  "cells": [
    {
      "cell_type": "markdown",
      "metadata": {
        "id": "view-in-github",
        "colab_type": "text"
      },
      "source": [
        "<a href=\"https://colab.research.google.com/github/fehimkus/tensorflow2_examples/blob/master/keras_deeplizard.ipynb\" target=\"_parent\"><img src=\"https://colab.research.google.com/assets/colab-badge.svg\" alt=\"Open In Colab\"/></a>"
      ]
    },
    {
      "cell_type": "code",
      "metadata": {
        "id": "L0ffL8aTlgsf",
        "colab_type": "code",
        "colab": {}
      },
      "source": [
        "import numpy as np\n",
        "from random import randint\n",
        "from sklearn.utils import shuffle\n",
        "from sklearn.preprocessing import MinMaxScaler"
      ],
      "execution_count": 13,
      "outputs": []
    },
    {
      "cell_type": "code",
      "metadata": {
        "id": "JqqTtHrPYWP_",
        "colab_type": "code",
        "colab": {}
      },
      "source": [
        "train_labels = []\n",
        "train_samples = []"
      ],
      "execution_count": 14,
      "outputs": []
    },
    {
      "cell_type": "code",
      "metadata": {
        "id": "sPMBEc7ZYj2g",
        "colab_type": "code",
        "colab": {}
      },
      "source": [
        "for i in range(50):\n",
        "  random_younger = randint(13, 64)\n",
        "  train_samples.append(random_younger)\n",
        "  train_labels.append(1)\n",
        "\n",
        "  random_older = randint(65, 100)\n",
        "  train_samples.append(random_older)\n",
        "  train_labels.append(0)\n",
        "\n",
        "for i in range(1000):\n",
        "  random_younger = randint(13, 64)\n",
        "  train_samples.append(random_younger)\n",
        "  train_labels.append(0)\n",
        "\n",
        "  random_older = randint(65, 100)\n",
        "  train_samples.append(random_older)\n",
        "  train_labels.append(1)\n"
      ],
      "execution_count": 15,
      "outputs": []
    },
    {
      "cell_type": "code",
      "metadata": {
        "id": "SuAuNk3wYjm5",
        "colab_type": "code",
        "colab": {}
      },
      "source": [
        "train_labels = np.array(train_labels)\n",
        "train_samples = np.array(train_samples)\n",
        "train_labels, train_samples = shuffle(train_labels, train_samples)"
      ],
      "execution_count": 16,
      "outputs": []
    },
    {
      "cell_type": "code",
      "metadata": {
        "id": "l0M0qukxiXKm",
        "colab_type": "code",
        "colab": {}
      },
      "source": [
        "scaler = MinMaxScaler(feature_range=(0, 1))\n",
        "scaled_train_samples = scaler.fit_transform(train_samples.reshape(-1, 1))"
      ],
      "execution_count": 17,
      "outputs": []
    },
    {
      "cell_type": "code",
      "metadata": {
        "id": "0txDEC51Ss-3",
        "colab_type": "code",
        "colab": {}
      },
      "source": [
        "import tensorflow as tf\n",
        "from tensorflow import keras\n",
        "from tensorflow.keras.models import Sequential\n",
        "from tensorflow.keras.layers import Activation, Dense\n",
        "from tensorflow.keras.optimizers import Adam\n",
        "from tensorflow.keras.metrics import categorical_crossentropy"
      ],
      "execution_count": 18,
      "outputs": []
    },
    {
      "cell_type": "code",
      "metadata": {
        "id": "5ACudF5gYYbG",
        "colab_type": "code",
        "colab": {}
      },
      "source": [
        "model = Sequential([\n",
        "                    Dense(units=16, input_shape=(1,), activation='relu'),\n",
        "                    Dense(units=32, activation='relu'),\n",
        "                    Dense(units=2, activation='softmax')\n",
        "])"
      ],
      "execution_count": 19,
      "outputs": []
    },
    {
      "cell_type": "code",
      "metadata": {
        "id": "sgPNfy6ZbT4e",
        "colab_type": "code",
        "colab": {}
      },
      "source": [
        "#model.summary()"
      ],
      "execution_count": null,
      "outputs": []
    },
    {
      "cell_type": "code",
      "metadata": {
        "id": "BIhbNprrbV_W",
        "colab_type": "code",
        "colab": {}
      },
      "source": [
        "model.compile(optimizer=Adam(learning_rate=0.001), loss='sparse_categorical_crossentropy', metrics=['accuracy'])"
      ],
      "execution_count": 30,
      "outputs": []
    },
    {
      "cell_type": "code",
      "metadata": {
        "id": "IHsKUHpEk9iV",
        "colab_type": "code",
        "colab": {
          "base_uri": "https://localhost:8080/",
          "height": 1000
        },
        "outputId": "d5df2286-a792-4650-b8ee-69e61ecc11cf"
      },
      "source": [
        "model.fit(x=scaled_train_samples, y=train_labels, validation_split=0.1, batch_size=30, epochs=30, shuffle=True, verbose=2)"
      ],
      "execution_count": 32,
      "outputs": [
        {
          "output_type": "stream",
          "text": [
            "Epoch 1/30\n",
            "63/63 - 0s - loss: 0.2099 - accuracy: 0.9487 - val_loss: 0.2164 - val_accuracy: 0.9524\n",
            "Epoch 2/30\n",
            "63/63 - 0s - loss: 0.2095 - accuracy: 0.9492 - val_loss: 0.2156 - val_accuracy: 0.9524\n",
            "Epoch 3/30\n",
            "63/63 - 0s - loss: 0.2094 - accuracy: 0.9471 - val_loss: 0.2156 - val_accuracy: 0.9524\n",
            "Epoch 4/30\n",
            "63/63 - 0s - loss: 0.2093 - accuracy: 0.9492 - val_loss: 0.2212 - val_accuracy: 0.9429\n",
            "Epoch 5/30\n",
            "63/63 - 0s - loss: 0.2089 - accuracy: 0.9487 - val_loss: 0.2150 - val_accuracy: 0.9524\n",
            "Epoch 6/30\n",
            "63/63 - 0s - loss: 0.2089 - accuracy: 0.9476 - val_loss: 0.2233 - val_accuracy: 0.9429\n",
            "Epoch 7/30\n",
            "63/63 - 0s - loss: 0.2082 - accuracy: 0.9492 - val_loss: 0.2192 - val_accuracy: 0.9429\n",
            "Epoch 8/30\n",
            "63/63 - 0s - loss: 0.2075 - accuracy: 0.9476 - val_loss: 0.2149 - val_accuracy: 0.9524\n",
            "Epoch 9/30\n",
            "63/63 - 0s - loss: 0.2084 - accuracy: 0.9492 - val_loss: 0.2148 - val_accuracy: 0.9524\n",
            "Epoch 10/30\n",
            "63/63 - 0s - loss: 0.2071 - accuracy: 0.9487 - val_loss: 0.2155 - val_accuracy: 0.9524\n",
            "Epoch 11/30\n",
            "63/63 - 0s - loss: 0.2070 - accuracy: 0.9508 - val_loss: 0.2154 - val_accuracy: 0.9429\n",
            "Epoch 12/30\n",
            "63/63 - 0s - loss: 0.2066 - accuracy: 0.9492 - val_loss: 0.2158 - val_accuracy: 0.9429\n",
            "Epoch 13/30\n",
            "63/63 - 0s - loss: 0.2063 - accuracy: 0.9481 - val_loss: 0.2114 - val_accuracy: 0.9524\n",
            "Epoch 14/30\n",
            "63/63 - 0s - loss: 0.2065 - accuracy: 0.9487 - val_loss: 0.2213 - val_accuracy: 0.9429\n",
            "Epoch 15/30\n",
            "63/63 - 0s - loss: 0.2055 - accuracy: 0.9481 - val_loss: 0.2300 - val_accuracy: 0.9238\n",
            "Epoch 16/30\n",
            "63/63 - 0s - loss: 0.2066 - accuracy: 0.9481 - val_loss: 0.2108 - val_accuracy: 0.9524\n",
            "Epoch 17/30\n",
            "63/63 - 0s - loss: 0.2061 - accuracy: 0.9476 - val_loss: 0.2109 - val_accuracy: 0.9524\n",
            "Epoch 18/30\n",
            "63/63 - 0s - loss: 0.2053 - accuracy: 0.9513 - val_loss: 0.2116 - val_accuracy: 0.9524\n",
            "Epoch 19/30\n",
            "63/63 - 0s - loss: 0.2048 - accuracy: 0.9476 - val_loss: 0.2107 - val_accuracy: 0.9524\n",
            "Epoch 20/30\n",
            "63/63 - 0s - loss: 0.2048 - accuracy: 0.9508 - val_loss: 0.2103 - val_accuracy: 0.9524\n",
            "Epoch 21/30\n",
            "63/63 - 0s - loss: 0.2046 - accuracy: 0.9508 - val_loss: 0.2239 - val_accuracy: 0.9429\n",
            "Epoch 22/30\n",
            "63/63 - 0s - loss: 0.2041 - accuracy: 0.9497 - val_loss: 0.2127 - val_accuracy: 0.9429\n",
            "Epoch 23/30\n",
            "63/63 - 0s - loss: 0.2059 - accuracy: 0.9487 - val_loss: 0.2084 - val_accuracy: 0.9524\n",
            "Epoch 24/30\n",
            "63/63 - 0s - loss: 0.2040 - accuracy: 0.9503 - val_loss: 0.2150 - val_accuracy: 0.9429\n",
            "Epoch 25/30\n",
            "63/63 - 0s - loss: 0.2039 - accuracy: 0.9497 - val_loss: 0.2135 - val_accuracy: 0.9429\n",
            "Epoch 26/30\n",
            "63/63 - 0s - loss: 0.2051 - accuracy: 0.9481 - val_loss: 0.2179 - val_accuracy: 0.9429\n",
            "Epoch 27/30\n",
            "63/63 - 0s - loss: 0.2041 - accuracy: 0.9481 - val_loss: 0.2122 - val_accuracy: 0.9429\n",
            "Epoch 28/30\n",
            "63/63 - 0s - loss: 0.2034 - accuracy: 0.9471 - val_loss: 0.2104 - val_accuracy: 0.9429\n",
            "Epoch 29/30\n",
            "63/63 - 0s - loss: 0.2032 - accuracy: 0.9508 - val_loss: 0.2070 - val_accuracy: 0.9524\n",
            "Epoch 30/30\n",
            "63/63 - 0s - loss: 0.2035 - accuracy: 0.9492 - val_loss: 0.2085 - val_accuracy: 0.9524\n"
          ],
          "name": "stdout"
        },
        {
          "output_type": "execute_result",
          "data": {
            "text/plain": [
              "<tensorflow.python.keras.callbacks.History at 0x7f39d2256dd8>"
            ]
          },
          "metadata": {
            "tags": []
          },
          "execution_count": 32
        }
      ]
    }
  ]
}