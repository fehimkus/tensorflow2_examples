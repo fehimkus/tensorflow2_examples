{
  "nbformat": 4,
  "nbformat_minor": 0,
  "metadata": {
    "colab": {
      "name": "XOR.ipynb",
      "provenance": [],
      "collapsed_sections": [],
      "authorship_tag": "ABX9TyPSw6Nrf+YXU8SzyT4hyHQi",
      "include_colab_link": true
    },
    "kernelspec": {
      "name": "python3",
      "display_name": "Python 3"
    }
  },
  "cells": [
    {
      "cell_type": "markdown",
      "metadata": {
        "id": "view-in-github",
        "colab_type": "text"
      },
      "source": [
        "<a href=\"https://colab.research.google.com/github/fehimkus/tensorflow2_examples/blob/master/XOR.ipynb\" target=\"_parent\"><img src=\"https://colab.research.google.com/assets/colab-badge.svg\" alt=\"Open In Colab\"/></a>"
      ]
    },
    {
      "cell_type": "code",
      "metadata": {
        "id": "UrcvRdG9dW1T",
        "colab_type": "code",
        "colab": {
          "base_uri": "https://localhost:8080/",
          "height": 885
        },
        "outputId": "7b90fd5c-8af1-4310-ffb6-c892a5d3002f"
      },
      "source": [
        "%tensorflow_version = 2.x\n",
        "import numpy as np\n",
        "from keras.models import Sequential\n",
        "from keras.layers.core import Dense\n",
        "\n",
        "# the four different states of the XOR gate\n",
        "training_data = np.array([[0,0],[0,1],[1,0],[1,1]], \"float32\")\n",
        "\n",
        "# the four expected results in the same order\n",
        "target_data = np.array([[0],[1],[1],[0]], \"float32\")\n",
        "\n",
        "model = Sequential()\n",
        "model.add(Dense(32, input_dim=2, activation='relu'))\n",
        "model.add(Dense(1, activation='sigmoid'))\n",
        "\n",
        "model.compile(loss='mean_squared_error',\n",
        "              optimizer='adam',\n",
        "              metrics=['binary_accuracy'])\n",
        "\n",
        "model.fit(training_data, target_data, nb_epoch=20, verbose=2)\n",
        "\n",
        "print (model.predict(training_data).round())"
      ],
      "execution_count": null,
      "outputs": [
        {
          "output_type": "stream",
          "text": [
            "Unknown TensorFlow version: = 2.x\n",
            "Currently selected TF version: 2.x\n",
            "Available versions:\n",
            " * 1.x\n",
            " * 2.x\n"
          ],
          "name": "stdout"
        },
        {
          "output_type": "stream",
          "text": [
            "/usr/local/lib/python3.6/dist-packages/ipykernel_launcher.py:20: UserWarning: The `nb_epoch` argument in `fit` has been renamed `epochs`.\n"
          ],
          "name": "stderr"
        },
        {
          "output_type": "stream",
          "text": [
            "Epoch 1/20\n",
            " - 0s - loss: 0.2640 - binary_accuracy: 0.5000\n",
            "Epoch 2/20\n",
            " - 0s - loss: 0.2636 - binary_accuracy: 0.5000\n",
            "Epoch 3/20\n",
            " - 0s - loss: 0.2631 - binary_accuracy: 0.5000\n",
            "Epoch 4/20\n",
            " - 0s - loss: 0.2625 - binary_accuracy: 0.5000\n",
            "Epoch 5/20\n",
            " - 0s - loss: 0.2619 - binary_accuracy: 0.5000\n",
            "Epoch 6/20\n",
            " - 0s - loss: 0.2614 - binary_accuracy: 0.5000\n",
            "Epoch 7/20\n",
            " - 0s - loss: 0.2608 - binary_accuracy: 0.5000\n",
            "Epoch 8/20\n",
            " - 0s - loss: 0.2602 - binary_accuracy: 0.5000\n",
            "Epoch 9/20\n",
            " - 0s - loss: 0.2596 - binary_accuracy: 0.5000\n",
            "Epoch 10/20\n",
            " - 0s - loss: 0.2590 - binary_accuracy: 0.5000\n",
            "Epoch 11/20\n",
            " - 0s - loss: 0.2584 - binary_accuracy: 0.5000\n",
            "Epoch 12/20\n",
            " - 0s - loss: 0.2579 - binary_accuracy: 0.5000\n",
            "Epoch 13/20\n",
            " - 0s - loss: 0.2573 - binary_accuracy: 0.5000\n",
            "Epoch 14/20\n",
            " - 0s - loss: 0.2567 - binary_accuracy: 0.5000\n",
            "Epoch 15/20\n",
            " - 0s - loss: 0.2561 - binary_accuracy: 0.5000\n",
            "Epoch 16/20\n",
            " - 0s - loss: 0.2556 - binary_accuracy: 0.5000\n",
            "Epoch 17/20\n",
            " - 0s - loss: 0.2551 - binary_accuracy: 0.5000\n",
            "Epoch 18/20\n",
            " - 0s - loss: 0.2545 - binary_accuracy: 0.5000\n",
            "Epoch 19/20\n",
            " - 0s - loss: 0.2540 - binary_accuracy: 0.5000\n",
            "Epoch 20/20\n",
            " - 0s - loss: 0.2535 - binary_accuracy: 0.5000\n",
            "[[0.]\n",
            " [0.]\n",
            " [1.]\n",
            " [1.]]\n"
          ],
          "name": "stdout"
        }
      ]
    }
  ]
}